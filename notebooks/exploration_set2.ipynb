{
 "cells": [
  {
   "attachments": {},
   "cell_type": "markdown",
   "metadata": {},
   "source": [
    "# Dataset Exploration -  N-CMAPSS DS02\n",
    "\n",
    "The new C-MAPSS dataset DS02 from NASA provides degradation trajectories of 9 turbofan engines with unknown and different initial health condition for complete flights and two failure modes (HPT efficiency degradation & HPT efficiency degradation combined with LPT efficiency and capacity degradation). The data were synthetically generated with the Commercial Modular Aero-Propulsion System Simulation (C-MAPSS) dynamical model. The data contains multivariate sensors readings of the complete run-to-failure trajectories. Therefore, the records stop at the cycle/time the engine failed. A total number of 6.5M time stamps are available.\n",
    "\n",
    "Copyright (c) by Manuel Arias."
   ]
  },
  {
   "cell_type": "code",
   "execution_count": 4,
   "metadata": {},
   "outputs": [],
   "source": [
    "import os\n",
    "import h5py\n",
    "import time\n",
    "import matplotlib\n",
    "import numpy as np\n",
    "import pandas as pd\n",
    "import seaborn as sns\n",
    "from pandas import DataFrame\n",
    "import matplotlib.pyplot as plt\n",
    "from matplotlib import gridspec\n",
    "%matplotlib inline"
   ]
  },
  {
   "cell_type": "code",
   "execution_count": 43,
   "metadata": {},
   "outputs": [],
   "source": [
    "# Data files are very large and scored in H5 format\n",
    "# The following function opends de files and \n",
    "def read_h5_file(filename):\n",
    "    # Time tracking, Operation time (min):  0.003\n",
    "    t = time.process_time()  \n",
    "\n",
    "    # Load data\n",
    "    with h5py.File(filename, 'r') as hdf:\n",
    "            # Development set\n",
    "            W_dev = np.array(hdf.get('W_dev'))             # W\n",
    "            X_s_dev = np.array(hdf.get('X_s_dev'))         # X_s\n",
    "            X_v_dev = np.array(hdf.get('X_v_dev'))         # X_v\n",
    "            T_dev = np.array(hdf.get('T_dev'))             # T\n",
    "            Y_dev = np.array(hdf.get('Y_dev'))             # RUL  \n",
    "            A_dev = np.array(hdf.get('A_dev'))             # Auxiliary\n",
    "\n",
    "            # Test set\n",
    "            W_test = np.array(hdf.get('W_test'))           # W\n",
    "            X_s_test = np.array(hdf.get('X_s_test'))       # X_s\n",
    "            X_v_test = np.array(hdf.get('X_v_test'))       # X_v\n",
    "            T_test = np.array(hdf.get('T_test'))           # T\n",
    "            Y_test = np.array(hdf.get('Y_test'))           # RUL  \n",
    "            A_test = np.array(hdf.get('A_test'))           # Auxiliary\n",
    "            \n",
    "            # Varnams\n",
    "            W_var = np.array(hdf.get('W_var'))\n",
    "            X_s_var = np.array(hdf.get('X_s_var'))  \n",
    "            X_v_var = np.array(hdf.get('X_v_var')) \n",
    "            T_var = np.array(hdf.get('T_var'))\n",
    "            A_var = np.array(hdf.get('A_var'))\n",
    "            \n",
    "            # from np.array to list dtype U4/U5\n",
    "            W_var = list(np.array(W_var, dtype='U20'))\n",
    "            X_s_var = list(np.array(X_s_var, dtype='U20'))  \n",
    "            X_v_var = list(np.array(X_v_var, dtype='U20')) \n",
    "            T_var = list(np.array(T_var, dtype='U20'))\n",
    "            A_var = list(np.array(A_var, dtype='U20'))\n",
    "                            \n",
    "    W = np.concatenate((W_dev, W_test), axis=0)  \n",
    "    X_s = np.concatenate((X_s_dev, X_s_test), axis=0)\n",
    "    X_v = np.concatenate((X_v_dev, X_v_test), axis=0)\n",
    "    T = np.concatenate((T_dev, T_test), axis=0)\n",
    "    Y = np.concatenate((Y_dev, Y_test), axis=0) \n",
    "    A = np.concatenate((A_dev, A_test), axis=0) \n",
    "\n",
    "\n",
    "    print('')\n",
    "    print(\"Operation time (min): \" , (time.process_time()-t)/60)\n",
    "    print(f\"\\nData Points\")\n",
    "    print (\"W shape: \", str(W.shape), type(W))\n",
    "    print (\"X_s shape: \", str(X_s.shape), type(X_s))\n",
    "    print (\"X_v shape: \", str(X_v.shape), type(X_v))\n",
    "    print (\"T shape: \", str(T.shape), type(T))\n",
    "    print (\"A shape: \", str(A.shape), type(A))\n",
    "    \n",
    "    # Features labels\n",
    "    print(f\"\\nLabels\")\n",
    "    print (f\"W_var type: {type(W_var)} shape: {len(W_var)}, sample: {W_var[:5]}\")\n",
    "    print (f\"X_s_var shape: \" , type(X_s_var), len(X_s_var), X_s_var[:5])\n",
    "    print (f\"X_v_var shape: \", type(X_v_var), len(X_v_var), X_v_var[:5])\n",
    "    print (f\"T_var shape: \", type(T_var), len(T_var), T_var[:5])\n",
    "    print (f\"A_var shape: \", type(A_var), len(A_var), A_var[:5])\n",
    "    \n",
    "    # Target\n",
    "    print(f\"\\nTarget\")\n",
    "    print (\"Y shape: \", type(Y), len(Y))\n",
    "\n",
    "    # Prepare Datasets\n",
    "    df_W = DataFrame(data=W, columns=W_var)\n",
    "    df_X_s = DataFrame(data=X_s, columns=X_s_var)\n",
    "    df_X_v = DataFrame(data=X_v, columns=X_v_var)\n",
    "    df_T = DataFrame(data=T, columns=T_var)\n",
    "    df_A = DataFrame(data=A, columns=A_var)\n",
    "\n",
    "    return df_W, df_X_s, df_X_v, df_T, df_A, Y"
   ]
  },
  {
   "cell_type": "code",
   "execution_count": 44,
   "metadata": {},
   "outputs": [
    {
     "name": "stdout",
     "output_type": "stream",
     "text": [
      "\n",
      "Operation time (min):  0.060886650000000014\n",
      "\n",
      "Data Points\n",
      "W shape:  (6517190, 4) <class 'numpy.ndarray'>\n",
      "X_s shape:  (6517190, 14) <class 'numpy.ndarray'>\n",
      "X_v shape:  (6517190, 14) <class 'numpy.ndarray'>\n",
      "T shape:  (6517190, 10) <class 'numpy.ndarray'>\n",
      "A shape:  (6517190, 4) <class 'numpy.ndarray'>\n",
      "\n",
      "Labels\n",
      "W_var type: <class 'list'> shape: 4, sample: ['alt', 'Mach', 'TRA', 'T2']\n",
      "X_s_var shape:  <class 'list'> 14 ['T24', 'T30', 'T48', 'T50', 'P15']\n",
      "X_v_var shape:  <class 'list'> 14 ['T40', 'P30', 'P45', 'W21', 'W22']\n",
      "T_var shape:  <class 'list'> 10 ['fan_eff_mod', 'fan_flow_mod', 'LPC_eff_mod', 'LPC_flow_mod', 'HPC_eff_mod']\n",
      "A_var shape:  <class 'list'> 4 ['unit', 'cycle', 'Fc', 'hs']\n",
      "\n",
      "Target\n",
      "Y shape:  <class 'numpy.ndarray'> 6517190\n",
      "\n",
      "Dataframes from datapoints and labels\n",
      "df_w <class 'pandas.core.frame.DataFrame'> (6517190, 4)\n",
      "df_X_s <class 'pandas.core.frame.DataFrame'> (6517190, 14)\n",
      "df_X_v <class 'pandas.core.frame.DataFrame'> (6517190, 14)\n",
      "df_T <class 'pandas.core.frame.DataFrame'> (6517190, 10)\n",
      "df_A <class 'pandas.core.frame.DataFrame'> (6517190, 4)\n"
     ]
    }
   ],
   "source": [
    "### Set-up - Define file location\n",
    "filename = '/Volumes/share/Datasets/17_TurbofanEngineDegradationSimulationDataSet2/data_set/N-CMAPSS_DS02-006.h5'\n",
    "df_W, df_X_s, df_X_v, df_T, df_A, Y = read_h5_file(filename)\n",
    "\n",
    "print(\"\\nDataframes from datapoints and labels\")\n",
    "print('df_w', type(df_W), df_W.shape)\n",
    "print('df_X_s', type(df_X_s), df_X_s.shape)\n",
    "print('df_X_v', type(df_X_v), df_X_v.shape)\n",
    "print('df_T', type(df_T), df_T.shape)\n",
    "print('df_A', type(df_A), df_A.shape)"
   ]
  },
  {
   "cell_type": "code",
   "execution_count": null,
   "metadata": {},
   "outputs": [],
   "source": []
  }
 ],
 "metadata": {
  "kernelspec": {
   "display_name": "py39_12",
   "language": "python",
   "name": "python3"
  },
  "language_info": {
   "codemirror_mode": {
    "name": "ipython",
    "version": 3
   },
   "file_extension": ".py",
   "mimetype": "text/x-python",
   "name": "python",
   "nbconvert_exporter": "python",
   "pygments_lexer": "ipython3",
   "version": "3.9.12"
  },
  "orig_nbformat": 4,
  "vscode": {
   "interpreter": {
    "hash": "0e1df7214b896ba3d482856fa1b4374f6df405986cf6d589f47bd72fb1b9c3bc"
   }
  }
 },
 "nbformat": 4,
 "nbformat_minor": 2
}
